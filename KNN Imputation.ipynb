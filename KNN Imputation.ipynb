{
 "cells": [
  {
   "cell_type": "code",
   "execution_count": 1,
   "metadata": {},
   "outputs": [],
   "source": [
    "import pandas as pd\n",
    "from sklearn.model_selection import train_test_split\n",
    "from sklearn.neighbors import KNeighborsClassifier\n",
    "from sklearn.metrics import accuracy_score"
   ]
  },
  {
   "cell_type": "code",
   "execution_count": 2,
   "metadata": {},
   "outputs": [],
   "source": [
    "# Load the data\n",
    "d19 = pd.read_csv(r\"C:\\Users\\Njula Chakaya\\OneDrive\\Documents\\Masters_Practicals\\Collaborative App Devt\\Data Files\\D19.csv\", header=1)"
   ]
  },
  {
   "cell_type": "code",
   "execution_count": 11,
   "metadata": {},
   "outputs": [
    {
     "data": {
      "text/html": [
       "<div>\n",
       "<style scoped>\n",
       "    .dataframe tbody tr th:only-of-type {\n",
       "        vertical-align: middle;\n",
       "    }\n",
       "\n",
       "    .dataframe tbody tr th {\n",
       "        vertical-align: top;\n",
       "    }\n",
       "\n",
       "    .dataframe thead th {\n",
       "        text-align: right;\n",
       "    }\n",
       "</style>\n",
       "<table border=\"1\" class=\"dataframe\">\n",
       "  <thead>\n",
       "    <tr style=\"text-align: right;\">\n",
       "      <th></th>\n",
       "      <th>BookingReference</th>\n",
       "      <th>Created Date</th>\n",
       "      <th>Reference</th>\n",
       "      <th>Attendee Status</th>\n",
       "      <th>Attended</th>\n",
       "      <th>DaysSinceFirst</th>\n",
       "    </tr>\n",
       "  </thead>\n",
       "  <tbody>\n",
       "    <tr>\n",
       "      <th>0</th>\n",
       "      <td>B739461</td>\n",
       "      <td>2019-07-16</td>\n",
       "      <td>A802512</td>\n",
       "      <td>Cancelled</td>\n",
       "      <td>NaN</td>\n",
       "      <td>0</td>\n",
       "    </tr>\n",
       "    <tr>\n",
       "      <th>1</th>\n",
       "      <td>B739462</td>\n",
       "      <td>2019-07-16</td>\n",
       "      <td>A802513</td>\n",
       "      <td>Attending</td>\n",
       "      <td>Yes</td>\n",
       "      <td>0</td>\n",
       "    </tr>\n",
       "    <tr>\n",
       "      <th>2</th>\n",
       "      <td>B739463</td>\n",
       "      <td>2019-07-16</td>\n",
       "      <td>A802514</td>\n",
       "      <td>Attending</td>\n",
       "      <td>Yes</td>\n",
       "      <td>0</td>\n",
       "    </tr>\n",
       "    <tr>\n",
       "      <th>3</th>\n",
       "      <td>B739464</td>\n",
       "      <td>2019-07-16</td>\n",
       "      <td>A802515</td>\n",
       "      <td>Attending</td>\n",
       "      <td>No</td>\n",
       "      <td>0</td>\n",
       "    </tr>\n",
       "    <tr>\n",
       "      <th>4</th>\n",
       "      <td>B739465</td>\n",
       "      <td>2019-07-16</td>\n",
       "      <td>A802516</td>\n",
       "      <td>Attending</td>\n",
       "      <td>No</td>\n",
       "      <td>0</td>\n",
       "    </tr>\n",
       "  </tbody>\n",
       "</table>\n",
       "</div>"
      ],
      "text/plain": [
       "  BookingReference Created Date Reference Attendee Status Attended   \n",
       "0          B739461   2019-07-16   A802512       Cancelled      NaN  \\\n",
       "1          B739462   2019-07-16   A802513       Attending      Yes   \n",
       "2          B739463   2019-07-16   A802514       Attending      Yes   \n",
       "3          B739464   2019-07-16   A802515       Attending       No   \n",
       "4          B739465   2019-07-16   A802516       Attending       No   \n",
       "\n",
       "   DaysSinceFirst  \n",
       "0               0  \n",
       "1               0  \n",
       "2               0  \n",
       "3               0  \n",
       "4               0  "
      ]
     },
     "execution_count": 11,
     "metadata": {},
     "output_type": "execute_result"
    }
   ],
   "source": [
    "d19.head()"
   ]
  },
  {
   "cell_type": "code",
   "execution_count": 4,
   "metadata": {},
   "outputs": [],
   "source": [
    "# Change the Created Date column to datetime object\n",
    "d19[\"Created Date\"] = pd.to_datetime(d19[\"Created Date\"], format='%d/%m/%Y')"
   ]
  },
  {
   "cell_type": "code",
   "execution_count": 5,
   "metadata": {},
   "outputs": [
    {
     "name": "stdout",
     "output_type": "stream",
     "text": [
      "<class 'pandas.core.frame.DataFrame'>\n",
      "RangeIndex: 1185 entries, 0 to 1184\n",
      "Data columns (total 5 columns):\n",
      " #   Column            Non-Null Count  Dtype         \n",
      "---  ------            --------------  -----         \n",
      " 0   BookingReference  1185 non-null   object        \n",
      " 1   Created Date      1185 non-null   datetime64[ns]\n",
      " 2   Reference         1185 non-null   object        \n",
      " 3   Attendee Status   1185 non-null   object        \n",
      " 4   Attended          1086 non-null   object        \n",
      "dtypes: datetime64[ns](1), object(4)\n",
      "memory usage: 46.4+ KB\n"
     ]
    }
   ],
   "source": [
    "d19.info()"
   ]
  },
  {
   "cell_type": "code",
   "execution_count": 13,
   "metadata": {},
   "outputs": [
    {
     "data": {
      "text/html": [
       "<div>\n",
       "<style scoped>\n",
       "    .dataframe tbody tr th:only-of-type {\n",
       "        vertical-align: middle;\n",
       "    }\n",
       "\n",
       "    .dataframe tbody tr th {\n",
       "        vertical-align: top;\n",
       "    }\n",
       "\n",
       "    .dataframe thead th {\n",
       "        text-align: right;\n",
       "    }\n",
       "</style>\n",
       "<table border=\"1\" class=\"dataframe\">\n",
       "  <thead>\n",
       "    <tr style=\"text-align: right;\">\n",
       "      <th></th>\n",
       "      <th>BookingReference</th>\n",
       "      <th>Created Date</th>\n",
       "      <th>Reference</th>\n",
       "      <th>Attendee Status</th>\n",
       "      <th>Attended</th>\n",
       "      <th>DaysSinceFirst</th>\n",
       "    </tr>\n",
       "  </thead>\n",
       "  <tbody>\n",
       "    <tr>\n",
       "      <th>1180</th>\n",
       "      <td>B791099</td>\n",
       "      <td>2019-11-18</td>\n",
       "      <td>A855383</td>\n",
       "      <td>Attending</td>\n",
       "      <td>Yes</td>\n",
       "      <td>125</td>\n",
       "    </tr>\n",
       "    <tr>\n",
       "      <th>1181</th>\n",
       "      <td>B791101</td>\n",
       "      <td>2019-11-18</td>\n",
       "      <td>A855385</td>\n",
       "      <td>Attending</td>\n",
       "      <td>Yes</td>\n",
       "      <td>125</td>\n",
       "    </tr>\n",
       "    <tr>\n",
       "      <th>1182</th>\n",
       "      <td>B791103</td>\n",
       "      <td>2019-11-18</td>\n",
       "      <td>A855387</td>\n",
       "      <td>Attending</td>\n",
       "      <td>Yes</td>\n",
       "      <td>125</td>\n",
       "    </tr>\n",
       "    <tr>\n",
       "      <th>1183</th>\n",
       "      <td>B791104</td>\n",
       "      <td>2019-11-18</td>\n",
       "      <td>A855388</td>\n",
       "      <td>Attending</td>\n",
       "      <td>Yes</td>\n",
       "      <td>125</td>\n",
       "    </tr>\n",
       "    <tr>\n",
       "      <th>1184</th>\n",
       "      <td>B791104</td>\n",
       "      <td>2019-11-18</td>\n",
       "      <td>A855389</td>\n",
       "      <td>Attending</td>\n",
       "      <td>Yes</td>\n",
       "      <td>125</td>\n",
       "    </tr>\n",
       "  </tbody>\n",
       "</table>\n",
       "</div>"
      ],
      "text/plain": [
       "     BookingReference Created Date Reference Attendee Status Attended   \n",
       "1180          B791099   2019-11-18   A855383       Attending      Yes  \\\n",
       "1181          B791101   2019-11-18   A855385       Attending      Yes   \n",
       "1182          B791103   2019-11-18   A855387       Attending      Yes   \n",
       "1183          B791104   2019-11-18   A855388       Attending      Yes   \n",
       "1184          B791104   2019-11-18   A855389       Attending      Yes   \n",
       "\n",
       "      DaysSinceFirst  \n",
       "1180             125  \n",
       "1181             125  \n",
       "1182             125  \n",
       "1183             125  \n",
       "1184             125  "
      ]
     },
     "execution_count": 13,
     "metadata": {},
     "output_type": "execute_result"
    }
   ],
   "source": [
    "# Create a DaysSinceFirst column for the model\n",
    "\n",
    "'''\n",
    "How this works: it calculates the number of days between a specific date and the earliest date in the data.\n",
    "eg Assuming 1 Jan 2020 is the earliest date, and  4 Jan 2020 is the second date, there's 3 days between the\n",
    "two dates.\n",
    "\n",
    "'''\n",
    "d19['DaysSinceFirst'] = (d19['Created Date'] - d19['Created Date'].min()).dt.days\n",
    "\n",
    "d19.tail()"
   ]
  },
  {
   "cell_type": "code",
   "execution_count": 14,
   "metadata": {},
   "outputs": [],
   "source": [
    "# Encode the Attendee Status ie change to numerical values\n",
    "d19['Encoded'] = d19['Attendee Status'].astype('category').cat.codes"
   ]
  },
  {
   "cell_type": "code",
   "execution_count": 15,
   "metadata": {},
   "outputs": [
    {
     "name": "stderr",
     "output_type": "stream",
     "text": [
      "C:\\Users\\Njula Chakaya\\AppData\\Local\\Temp\\ipykernel_8724\\180174939.py:5: SettingWithCopyWarning: \n",
      "A value is trying to be set on a copy of a slice from a DataFrame.\n",
      "Try using .loc[row_indexer,col_indexer] = value instead\n",
      "\n",
      "See the caveats in the documentation: https://pandas.pydata.org/pandas-docs/stable/user_guide/indexing.html#returning-a-view-versus-a-copy\n",
      "  not_missing['AttendedEncoded'] = not_missing['Attended'].astype('category').cat.codes # changes yes/no values to numerical values\n"
     ]
    }
   ],
   "source": [
    "# Split the data into missing and not missing for the Attended column\n",
    "\n",
    "not_missing = d19.dropna(subset= ['Attended']) # drops all the missing values in that column\n",
    "missing = d19[d19['Attended'].isna()] # checks for the missing values in the column\n",
    "not_missing['AttendedEncoded'] = not_missing['Attended'].astype('category').cat.codes # changes yes/no values to numerical values"
   ]
  },
  {
   "cell_type": "code",
   "execution_count": 18,
   "metadata": {},
   "outputs": [],
   "source": [
    "# Split into X and y variables\n",
    "\n",
    "X = not_missing[['DaysSinceFirst', 'Encoded']]\n",
    "y = not_missing['AttendedEncoded']"
   ]
  },
  {
   "cell_type": "code",
   "execution_count": 19,
   "metadata": {},
   "outputs": [],
   "source": [
    "# Split into training and test sets\n",
    "\n",
    "X_train, X_test, y_train, y_test = train_test_split(X, y, test_size=0.2)"
   ]
  },
  {
   "cell_type": "code",
   "execution_count": 20,
   "metadata": {},
   "outputs": [
    {
     "data": {
      "text/html": [
       "<style>#sk-container-id-1 {color: black;background-color: white;}#sk-container-id-1 pre{padding: 0;}#sk-container-id-1 div.sk-toggleable {background-color: white;}#sk-container-id-1 label.sk-toggleable__label {cursor: pointer;display: block;width: 100%;margin-bottom: 0;padding: 0.3em;box-sizing: border-box;text-align: center;}#sk-container-id-1 label.sk-toggleable__label-arrow:before {content: \"▸\";float: left;margin-right: 0.25em;color: #696969;}#sk-container-id-1 label.sk-toggleable__label-arrow:hover:before {color: black;}#sk-container-id-1 div.sk-estimator:hover label.sk-toggleable__label-arrow:before {color: black;}#sk-container-id-1 div.sk-toggleable__content {max-height: 0;max-width: 0;overflow: hidden;text-align: left;background-color: #f0f8ff;}#sk-container-id-1 div.sk-toggleable__content pre {margin: 0.2em;color: black;border-radius: 0.25em;background-color: #f0f8ff;}#sk-container-id-1 input.sk-toggleable__control:checked~div.sk-toggleable__content {max-height: 200px;max-width: 100%;overflow: auto;}#sk-container-id-1 input.sk-toggleable__control:checked~label.sk-toggleable__label-arrow:before {content: \"▾\";}#sk-container-id-1 div.sk-estimator input.sk-toggleable__control:checked~label.sk-toggleable__label {background-color: #d4ebff;}#sk-container-id-1 div.sk-label input.sk-toggleable__control:checked~label.sk-toggleable__label {background-color: #d4ebff;}#sk-container-id-1 input.sk-hidden--visually {border: 0;clip: rect(1px 1px 1px 1px);clip: rect(1px, 1px, 1px, 1px);height: 1px;margin: -1px;overflow: hidden;padding: 0;position: absolute;width: 1px;}#sk-container-id-1 div.sk-estimator {font-family: monospace;background-color: #f0f8ff;border: 1px dotted black;border-radius: 0.25em;box-sizing: border-box;margin-bottom: 0.5em;}#sk-container-id-1 div.sk-estimator:hover {background-color: #d4ebff;}#sk-container-id-1 div.sk-parallel-item::after {content: \"\";width: 100%;border-bottom: 1px solid gray;flex-grow: 1;}#sk-container-id-1 div.sk-label:hover label.sk-toggleable__label {background-color: #d4ebff;}#sk-container-id-1 div.sk-serial::before {content: \"\";position: absolute;border-left: 1px solid gray;box-sizing: border-box;top: 0;bottom: 0;left: 50%;z-index: 0;}#sk-container-id-1 div.sk-serial {display: flex;flex-direction: column;align-items: center;background-color: white;padding-right: 0.2em;padding-left: 0.2em;position: relative;}#sk-container-id-1 div.sk-item {position: relative;z-index: 1;}#sk-container-id-1 div.sk-parallel {display: flex;align-items: stretch;justify-content: center;background-color: white;position: relative;}#sk-container-id-1 div.sk-item::before, #sk-container-id-1 div.sk-parallel-item::before {content: \"\";position: absolute;border-left: 1px solid gray;box-sizing: border-box;top: 0;bottom: 0;left: 50%;z-index: -1;}#sk-container-id-1 div.sk-parallel-item {display: flex;flex-direction: column;z-index: 1;position: relative;background-color: white;}#sk-container-id-1 div.sk-parallel-item:first-child::after {align-self: flex-end;width: 50%;}#sk-container-id-1 div.sk-parallel-item:last-child::after {align-self: flex-start;width: 50%;}#sk-container-id-1 div.sk-parallel-item:only-child::after {width: 0;}#sk-container-id-1 div.sk-dashed-wrapped {border: 1px dashed gray;margin: 0 0.4em 0.5em 0.4em;box-sizing: border-box;padding-bottom: 0.4em;background-color: white;}#sk-container-id-1 div.sk-label label {font-family: monospace;font-weight: bold;display: inline-block;line-height: 1.2em;}#sk-container-id-1 div.sk-label-container {text-align: center;}#sk-container-id-1 div.sk-container {/* jupyter's `normalize.less` sets `[hidden] { display: none; }` but bootstrap.min.css set `[hidden] { display: none !important; }` so we also need the `!important` here to be able to override the default hidden behavior on the sphinx rendered scikit-learn.org. See: https://github.com/scikit-learn/scikit-learn/issues/21755 */display: inline-block !important;position: relative;}#sk-container-id-1 div.sk-text-repr-fallback {display: none;}</style><div id=\"sk-container-id-1\" class=\"sk-top-container\"><div class=\"sk-text-repr-fallback\"><pre>KNeighborsClassifier()</pre><b>In a Jupyter environment, please rerun this cell to show the HTML representation or trust the notebook. <br />On GitHub, the HTML representation is unable to render, please try loading this page with nbviewer.org.</b></div><div class=\"sk-container\" hidden><div class=\"sk-item\"><div class=\"sk-estimator sk-toggleable\"><input class=\"sk-toggleable__control sk-hidden--visually\" id=\"sk-estimator-id-1\" type=\"checkbox\" checked><label for=\"sk-estimator-id-1\" class=\"sk-toggleable__label sk-toggleable__label-arrow\">KNeighborsClassifier</label><div class=\"sk-toggleable__content\"><pre>KNeighborsClassifier()</pre></div></div></div></div></div>"
      ],
      "text/plain": [
       "KNeighborsClassifier()"
      ]
     },
     "execution_count": 20,
     "metadata": {},
     "output_type": "execute_result"
    }
   ],
   "source": [
    "# Initialize and train the KNN model\n",
    "knn = KNeighborsClassifier(n_neighbors = 5)\n",
    "knn.fit(X_train, y_train)"
   ]
  },
  {
   "cell_type": "code",
   "execution_count": 21,
   "metadata": {},
   "outputs": [
    {
     "name": "stdout",
     "output_type": "stream",
     "text": [
      "Accuracy: 0.7935779816513762\n"
     ]
    }
   ],
   "source": [
    "# Predict and check the accuracy score\n",
    "\n",
    "y_pred = knn.predict(X_test)\n",
    "accuracy = accuracy_score(y_test, y_pred)\n",
    "\n",
    "print(f'Accuracy: {accuracy}')"
   ]
  },
  {
   "cell_type": "code",
   "execution_count": 22,
   "metadata": {},
   "outputs": [],
   "source": [
    "# Predict the missing values\n",
    "missing_values = missing[['DaysSinceFirst', 'Encoded']]\n",
    "predicted_values = knn.predict(missing_values)"
   ]
  },
  {
   "cell_type": "code",
   "execution_count": 23,
   "metadata": {},
   "outputs": [],
   "source": [
    "# Map the predicted endoded data back to the Attended Status\n",
    "encode_map = dict(enumerate(not_missing['Attended'].astype('category').cat.categories))\n",
    "predicted_values_map = [encode_map[pred] for pred in predicted_values]"
   ]
  },
  {
   "cell_type": "code",
   "execution_count": 24,
   "metadata": {},
   "outputs": [],
   "source": [
    "# Update datset with predicted values\n",
    "missing_indices = missing.index\n",
    "d19.loc[missing_indices, 'Attended'] = predicted_values_map"
   ]
  },
  {
   "cell_type": "code",
   "execution_count": 26,
   "metadata": {},
   "outputs": [
    {
     "data": {
      "text/html": [
       "<div>\n",
       "<style scoped>\n",
       "    .dataframe tbody tr th:only-of-type {\n",
       "        vertical-align: middle;\n",
       "    }\n",
       "\n",
       "    .dataframe tbody tr th {\n",
       "        vertical-align: top;\n",
       "    }\n",
       "\n",
       "    .dataframe thead th {\n",
       "        text-align: right;\n",
       "    }\n",
       "</style>\n",
       "<table border=\"1\" class=\"dataframe\">\n",
       "  <thead>\n",
       "    <tr style=\"text-align: right;\">\n",
       "      <th></th>\n",
       "      <th>BookingReference</th>\n",
       "      <th>Created Date</th>\n",
       "      <th>Reference</th>\n",
       "      <th>Attendee Status</th>\n",
       "      <th>Attended</th>\n",
       "      <th>DaysSinceFirst</th>\n",
       "      <th>Encoded</th>\n",
       "    </tr>\n",
       "  </thead>\n",
       "  <tbody>\n",
       "    <tr>\n",
       "      <th>1181</th>\n",
       "      <td>B791101</td>\n",
       "      <td>2019-11-18</td>\n",
       "      <td>A855385</td>\n",
       "      <td>Attending</td>\n",
       "      <td>Yes</td>\n",
       "      <td>125</td>\n",
       "      <td>0</td>\n",
       "    </tr>\n",
       "    <tr>\n",
       "      <th>1111</th>\n",
       "      <td>B789978</td>\n",
       "      <td>2019-11-15</td>\n",
       "      <td>A854237</td>\n",
       "      <td>Attending</td>\n",
       "      <td>Yes</td>\n",
       "      <td>122</td>\n",
       "      <td>0</td>\n",
       "    </tr>\n",
       "    <tr>\n",
       "      <th>61</th>\n",
       "      <td>B739523</td>\n",
       "      <td>2019-07-16</td>\n",
       "      <td>A802574</td>\n",
       "      <td>Attending</td>\n",
       "      <td>No</td>\n",
       "      <td>0</td>\n",
       "      <td>0</td>\n",
       "    </tr>\n",
       "    <tr>\n",
       "      <th>360</th>\n",
       "      <td>B754005</td>\n",
       "      <td>2019-09-05</td>\n",
       "      <td>A817298</td>\n",
       "      <td>Attending</td>\n",
       "      <td>Yes</td>\n",
       "      <td>51</td>\n",
       "      <td>0</td>\n",
       "    </tr>\n",
       "    <tr>\n",
       "      <th>1102</th>\n",
       "      <td>B789946</td>\n",
       "      <td>2019-11-15</td>\n",
       "      <td>A854196</td>\n",
       "      <td>Attending</td>\n",
       "      <td>Yes</td>\n",
       "      <td>122</td>\n",
       "      <td>0</td>\n",
       "    </tr>\n",
       "    <tr>\n",
       "      <th>881</th>\n",
       "      <td>B783288</td>\n",
       "      <td>2019-11-08</td>\n",
       "      <td>A847380</td>\n",
       "      <td>Attending</td>\n",
       "      <td>Yes</td>\n",
       "      <td>115</td>\n",
       "      <td>0</td>\n",
       "    </tr>\n",
       "    <tr>\n",
       "      <th>93</th>\n",
       "      <td>B739555</td>\n",
       "      <td>2019-07-16</td>\n",
       "      <td>A802606</td>\n",
       "      <td>Attending</td>\n",
       "      <td>Yes</td>\n",
       "      <td>0</td>\n",
       "      <td>0</td>\n",
       "    </tr>\n",
       "    <tr>\n",
       "      <th>946</th>\n",
       "      <td>B787503</td>\n",
       "      <td>2019-11-12</td>\n",
       "      <td>A851636</td>\n",
       "      <td>Attending</td>\n",
       "      <td>Yes</td>\n",
       "      <td>119</td>\n",
       "      <td>0</td>\n",
       "    </tr>\n",
       "    <tr>\n",
       "      <th>241</th>\n",
       "      <td>B745064</td>\n",
       "      <td>2019-07-30</td>\n",
       "      <td>A808165</td>\n",
       "      <td>Attending</td>\n",
       "      <td>No</td>\n",
       "      <td>14</td>\n",
       "      <td>0</td>\n",
       "    </tr>\n",
       "    <tr>\n",
       "      <th>589</th>\n",
       "      <td>B773165</td>\n",
       "      <td>2019-10-21</td>\n",
       "      <td>A836949</td>\n",
       "      <td>Attending</td>\n",
       "      <td>Yes</td>\n",
       "      <td>97</td>\n",
       "      <td>0</td>\n",
       "    </tr>\n",
       "  </tbody>\n",
       "</table>\n",
       "</div>"
      ],
      "text/plain": [
       "     BookingReference Created Date Reference Attendee Status Attended   \n",
       "1181          B791101   2019-11-18   A855385       Attending      Yes  \\\n",
       "1111          B789978   2019-11-15   A854237       Attending      Yes   \n",
       "61            B739523   2019-07-16   A802574       Attending       No   \n",
       "360           B754005   2019-09-05   A817298       Attending      Yes   \n",
       "1102          B789946   2019-11-15   A854196       Attending      Yes   \n",
       "881           B783288   2019-11-08   A847380       Attending      Yes   \n",
       "93            B739555   2019-07-16   A802606       Attending      Yes   \n",
       "946           B787503   2019-11-12   A851636       Attending      Yes   \n",
       "241           B745064   2019-07-30   A808165       Attending       No   \n",
       "589           B773165   2019-10-21   A836949       Attending      Yes   \n",
       "\n",
       "      DaysSinceFirst  Encoded  \n",
       "1181             125        0  \n",
       "1111             122        0  \n",
       "61                 0        0  \n",
       "360               51        0  \n",
       "1102             122        0  \n",
       "881              115        0  \n",
       "93                 0        0  \n",
       "946              119        0  \n",
       "241               14        0  \n",
       "589               97        0  "
      ]
     },
     "execution_count": 26,
     "metadata": {},
     "output_type": "execute_result"
    }
   ],
   "source": [
    "d19.sample(10)"
   ]
  },
  {
   "cell_type": "code",
   "execution_count": null,
   "metadata": {},
   "outputs": [],
   "source": []
  }
 ],
 "metadata": {
  "kernelspec": {
   "display_name": "Python 3",
   "language": "python",
   "name": "python3"
  },
  "language_info": {
   "codemirror_mode": {
    "name": "ipython",
    "version": 3
   },
   "file_extension": ".py",
   "mimetype": "text/x-python",
   "name": "python",
   "nbconvert_exporter": "python",
   "pygments_lexer": "ipython3",
   "version": "3.11.3"
  }
 },
 "nbformat": 4,
 "nbformat_minor": 2
}
